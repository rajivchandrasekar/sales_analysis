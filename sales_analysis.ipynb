{
 "cells": [
  {
   "cell_type": "code",
   "execution_count": 6,
   "id": "69d5cd79",
   "metadata": {},
   "outputs": [],
   "source": [
    "import pandas as pd\n",
    "import os"
   ]
  },
  {
   "cell_type": "code",
   "execution_count": 3,
   "id": "4b2b666e",
   "metadata": {},
   "outputs": [],
   "source": [
    "files = [file for file in os.listdir('./Sales_Data')]"
   ]
  },
  {
   "cell_type": "code",
   "execution_count": 13,
   "id": "6a8f724c",
   "metadata": {},
   "outputs": [],
   "source": [
    "dataset = pd.DataFrame()\n",
    "\n",
    "for file in files:\n",
    "    dataset = pd.concat([dataset,pd.read_csv(f'./Sales_Data/{file}')], ignore_index=True)"
   ]
  },
  {
   "cell_type": "code",
   "execution_count": 16,
   "id": "b4e1891c",
   "metadata": {},
   "outputs": [],
   "source": [
    "dataset.to_csv('Checkpoint1.csv', index=False)"
   ]
  },
  {
   "cell_type": "code",
   "execution_count": 31,
   "id": "c04d52b6",
   "metadata": {},
   "outputs": [
    {
     "data": {
      "text/html": [
       "<div>\n",
       "<style scoped>\n",
       "    .dataframe tbody tr th:only-of-type {\n",
       "        vertical-align: middle;\n",
       "    }\n",
       "\n",
       "    .dataframe tbody tr th {\n",
       "        vertical-align: top;\n",
       "    }\n",
       "\n",
       "    .dataframe thead th {\n",
       "        text-align: right;\n",
       "    }\n",
       "</style>\n",
       "<table border=\"1\" class=\"dataframe\">\n",
       "  <thead>\n",
       "    <tr style=\"text-align: right;\">\n",
       "      <th></th>\n",
       "      <th>Order ID</th>\n",
       "      <th>Product</th>\n",
       "      <th>Quantity Ordered</th>\n",
       "      <th>Price Each</th>\n",
       "      <th>Order Date</th>\n",
       "      <th>Purchase Address</th>\n",
       "    </tr>\n",
       "  </thead>\n",
       "  <tbody>\n",
       "    <tr>\n",
       "      <th>0</th>\n",
       "      <td>176558</td>\n",
       "      <td>USB-C Charging Cable</td>\n",
       "      <td>2</td>\n",
       "      <td>11.95</td>\n",
       "      <td>04/19/19 08:46</td>\n",
       "      <td>917 1st St, Dallas, TX 75001</td>\n",
       "    </tr>\n",
       "    <tr>\n",
       "      <th>1</th>\n",
       "      <td>NaN</td>\n",
       "      <td>NaN</td>\n",
       "      <td>NaN</td>\n",
       "      <td>NaN</td>\n",
       "      <td>NaN</td>\n",
       "      <td>NaN</td>\n",
       "    </tr>\n",
       "    <tr>\n",
       "      <th>2</th>\n",
       "      <td>176559</td>\n",
       "      <td>Bose SoundSport Headphones</td>\n",
       "      <td>1</td>\n",
       "      <td>99.99</td>\n",
       "      <td>04/07/19 22:30</td>\n",
       "      <td>682 Chestnut St, Boston, MA 02215</td>\n",
       "    </tr>\n",
       "    <tr>\n",
       "      <th>3</th>\n",
       "      <td>176560</td>\n",
       "      <td>Google Phone</td>\n",
       "      <td>1</td>\n",
       "      <td>600</td>\n",
       "      <td>04/12/19 14:38</td>\n",
       "      <td>669 Spruce St, Los Angeles, CA 90001</td>\n",
       "    </tr>\n",
       "    <tr>\n",
       "      <th>4</th>\n",
       "      <td>176560</td>\n",
       "      <td>Wired Headphones</td>\n",
       "      <td>1</td>\n",
       "      <td>11.99</td>\n",
       "      <td>04/12/19 14:38</td>\n",
       "      <td>669 Spruce St, Los Angeles, CA 90001</td>\n",
       "    </tr>\n",
       "    <tr>\n",
       "      <th>...</th>\n",
       "      <td>...</td>\n",
       "      <td>...</td>\n",
       "      <td>...</td>\n",
       "      <td>...</td>\n",
       "      <td>...</td>\n",
       "      <td>...</td>\n",
       "    </tr>\n",
       "    <tr>\n",
       "      <th>186845</th>\n",
       "      <td>259353</td>\n",
       "      <td>AAA Batteries (4-pack)</td>\n",
       "      <td>3</td>\n",
       "      <td>2.99</td>\n",
       "      <td>09/17/19 20:56</td>\n",
       "      <td>840 Highland St, Los Angeles, CA 90001</td>\n",
       "    </tr>\n",
       "    <tr>\n",
       "      <th>186846</th>\n",
       "      <td>259354</td>\n",
       "      <td>iPhone</td>\n",
       "      <td>1</td>\n",
       "      <td>700</td>\n",
       "      <td>09/01/19 16:00</td>\n",
       "      <td>216 Dogwood St, San Francisco, CA 94016</td>\n",
       "    </tr>\n",
       "    <tr>\n",
       "      <th>186847</th>\n",
       "      <td>259355</td>\n",
       "      <td>iPhone</td>\n",
       "      <td>1</td>\n",
       "      <td>700</td>\n",
       "      <td>09/23/19 07:39</td>\n",
       "      <td>220 12th St, San Francisco, CA 94016</td>\n",
       "    </tr>\n",
       "    <tr>\n",
       "      <th>186848</th>\n",
       "      <td>259356</td>\n",
       "      <td>34in Ultrawide Monitor</td>\n",
       "      <td>1</td>\n",
       "      <td>379.99</td>\n",
       "      <td>09/19/19 17:30</td>\n",
       "      <td>511 Forest St, San Francisco, CA 94016</td>\n",
       "    </tr>\n",
       "    <tr>\n",
       "      <th>186849</th>\n",
       "      <td>259357</td>\n",
       "      <td>USB-C Charging Cable</td>\n",
       "      <td>1</td>\n",
       "      <td>11.95</td>\n",
       "      <td>09/30/19 00:18</td>\n",
       "      <td>250 Meadow St, San Francisco, CA 94016</td>\n",
       "    </tr>\n",
       "  </tbody>\n",
       "</table>\n",
       "<p>186850 rows × 6 columns</p>\n",
       "</div>"
      ],
      "text/plain": [
       "       Order ID                     Product Quantity Ordered Price Each  \\\n",
       "0        176558        USB-C Charging Cable                2      11.95   \n",
       "1           NaN                         NaN              NaN        NaN   \n",
       "2        176559  Bose SoundSport Headphones                1      99.99   \n",
       "3        176560                Google Phone                1        600   \n",
       "4        176560            Wired Headphones                1      11.99   \n",
       "...         ...                         ...              ...        ...   \n",
       "186845   259353      AAA Batteries (4-pack)                3       2.99   \n",
       "186846   259354                      iPhone                1        700   \n",
       "186847   259355                      iPhone                1        700   \n",
       "186848   259356      34in Ultrawide Monitor                1     379.99   \n",
       "186849   259357        USB-C Charging Cable                1      11.95   \n",
       "\n",
       "            Order Date                         Purchase Address  \n",
       "0       04/19/19 08:46             917 1st St, Dallas, TX 75001  \n",
       "1                  NaN                                      NaN  \n",
       "2       04/07/19 22:30        682 Chestnut St, Boston, MA 02215  \n",
       "3       04/12/19 14:38     669 Spruce St, Los Angeles, CA 90001  \n",
       "4       04/12/19 14:38     669 Spruce St, Los Angeles, CA 90001  \n",
       "...                ...                                      ...  \n",
       "186845  09/17/19 20:56   840 Highland St, Los Angeles, CA 90001  \n",
       "186846  09/01/19 16:00  216 Dogwood St, San Francisco, CA 94016  \n",
       "186847  09/23/19 07:39     220 12th St, San Francisco, CA 94016  \n",
       "186848  09/19/19 17:30   511 Forest St, San Francisco, CA 94016  \n",
       "186849  09/30/19 00:18   250 Meadow St, San Francisco, CA 94016  \n",
       "\n",
       "[186850 rows x 6 columns]"
      ]
     },
     "execution_count": 31,
     "metadata": {},
     "output_type": "execute_result"
    }
   ],
   "source": [
    "dataset"
   ]
  },
  {
   "cell_type": "code",
   "execution_count": 32,
   "id": "fc4b24de",
   "metadata": {},
   "outputs": [],
   "source": [
    "dataset['Month'] = dataset['Order Date'].str.slice(0,2)"
   ]
  },
  {
   "cell_type": "code",
   "execution_count": 50,
   "id": "36dfc189",
   "metadata": {},
   "outputs": [],
   "source": [
    "dataset.dropna(inplace=True)"
   ]
  },
  {
   "cell_type": "code",
   "execution_count": 54,
   "id": "eb9a2a98",
   "metadata": {},
   "outputs": [],
   "source": [
    "drop_index = dataset.loc[ dataset['Month'] == 'Or'].index"
   ]
  },
  {
   "cell_type": "code",
   "execution_count": 55,
   "id": "fb4c76d7",
   "metadata": {},
   "outputs": [],
   "source": [
    "dataset.drop(drop_index, inplace=True)"
   ]
  },
  {
   "cell_type": "code",
   "execution_count": 66,
   "id": "d907fbd7",
   "metadata": {},
   "outputs": [],
   "source": [
    "dataset['Quantity Ordered'] = pd.to_numeric(dataset['Quantity Ordered'])\n",
    "dataset['Price Each'] = pd.to_numeric(dataset['Price Each'])"
   ]
  },
  {
   "cell_type": "code",
   "execution_count": 67,
   "id": "c920e031",
   "metadata": {},
   "outputs": [],
   "source": [
    "dataset['Total Sales'] = dataset['Quantity Ordered'] * dataset['Price Each']"
   ]
  },
  {
   "cell_type": "code",
   "execution_count": 86,
   "id": "e5fc345f",
   "metadata": {},
   "outputs": [
    {
     "ename": "SyntaxError",
     "evalue": "leading zeros in decimal integer literals are not permitted; use an 0o prefix for octal integers (2908621210.py, line 3)",
     "output_type": "error",
     "traceback": [
      "\u001b[1;36m  Input \u001b[1;32mIn [86]\u001b[1;36m\u001b[0m\n\u001b[1;33m    sales_by_month[01]\u001b[0m\n\u001b[1;37m                    ^\u001b[0m\n\u001b[1;31mSyntaxError\u001b[0m\u001b[1;31m:\u001b[0m leading zeros in decimal integer literals are not permitted; use an 0o prefix for octal integers\n"
     ]
    }
   ],
   "source": [
    "#\n",
    "dataset.groupby('Month').sum()['Total Sales'].max()"
   ]
  },
  {
   "cell_type": "code",
   "execution_count": 87,
   "id": "a2412fa4",
   "metadata": {},
   "outputs": [],
   "source": [
    "dataset['City'] = dataset['Purchase Address'].apply(lambda city: city.split(',')[1])"
   ]
  },
  {
   "cell_type": "code",
   "execution_count": 105,
   "id": "b0216460",
   "metadata": {},
   "outputs": [
    {
     "data": {
      "text/html": [
       "<div>\n",
       "<style scoped>\n",
       "    .dataframe tbody tr th:only-of-type {\n",
       "        vertical-align: middle;\n",
       "    }\n",
       "\n",
       "    .dataframe tbody tr th {\n",
       "        vertical-align: top;\n",
       "    }\n",
       "\n",
       "    .dataframe thead th {\n",
       "        text-align: right;\n",
       "    }\n",
       "</style>\n",
       "<table border=\"1\" class=\"dataframe\">\n",
       "  <thead>\n",
       "    <tr style=\"text-align: right;\">\n",
       "      <th></th>\n",
       "      <th>Total Sales</th>\n",
       "    </tr>\n",
       "    <tr>\n",
       "      <th>City</th>\n",
       "      <th></th>\n",
       "    </tr>\n",
       "  </thead>\n",
       "  <tbody>\n",
       "    <tr>\n",
       "      <th>San Francisco</th>\n",
       "      <td>8262203.91</td>\n",
       "    </tr>\n",
       "    <tr>\n",
       "      <th>Los Angeles</th>\n",
       "      <td>5452570.80</td>\n",
       "    </tr>\n",
       "    <tr>\n",
       "      <th>New York City</th>\n",
       "      <td>4664317.43</td>\n",
       "    </tr>\n",
       "    <tr>\n",
       "      <th>Boston</th>\n",
       "      <td>3661642.01</td>\n",
       "    </tr>\n",
       "    <tr>\n",
       "      <th>Atlanta</th>\n",
       "      <td>2795498.58</td>\n",
       "    </tr>\n",
       "    <tr>\n",
       "      <th>Dallas</th>\n",
       "      <td>2767975.40</td>\n",
       "    </tr>\n",
       "    <tr>\n",
       "      <th>Seattle</th>\n",
       "      <td>2747755.48</td>\n",
       "    </tr>\n",
       "    <tr>\n",
       "      <th>Portland</th>\n",
       "      <td>2320490.61</td>\n",
       "    </tr>\n",
       "    <tr>\n",
       "      <th>Austin</th>\n",
       "      <td>1819581.75</td>\n",
       "    </tr>\n",
       "  </tbody>\n",
       "</table>\n",
       "</div>"
      ],
      "text/plain": [
       "                Total Sales\n",
       "City                       \n",
       " San Francisco   8262203.91\n",
       " Los Angeles     5452570.80\n",
       " New York City   4664317.43\n",
       " Boston          3661642.01\n",
       " Atlanta         2795498.58\n",
       " Dallas          2767975.40\n",
       " Seattle         2747755.48\n",
       " Portland        2320490.61\n",
       " Austin          1819581.75"
      ]
     },
     "execution_count": 105,
     "metadata": {},
     "output_type": "execute_result"
    }
   ],
   "source": [
    "dataset.groupby('City').agg({'Total Sales':sum}).sort_values('Total Sales', ascending=False)"
   ]
  },
  {
   "cell_type": "code",
   "execution_count": 107,
   "id": "7afea0fe",
   "metadata": {},
   "outputs": [],
   "source": [
    "dataset['Order Date'] = pd.to_datetime(dataset['Order Date'])"
   ]
  },
  {
   "cell_type": "code",
   "execution_count": 109,
   "id": "2c1729de",
   "metadata": {},
   "outputs": [],
   "source": [
    "dataset['Time'] = dataset['Order Date'].dt.hour"
   ]
  },
  {
   "cell_type": "code",
   "execution_count": 114,
   "id": "051b1d6f",
   "metadata": {},
   "outputs": [
    {
     "data": {
      "text/html": [
       "<div>\n",
       "<style scoped>\n",
       "    .dataframe tbody tr th:only-of-type {\n",
       "        vertical-align: middle;\n",
       "    }\n",
       "\n",
       "    .dataframe tbody tr th {\n",
       "        vertical-align: top;\n",
       "    }\n",
       "\n",
       "    .dataframe thead th {\n",
       "        text-align: right;\n",
       "    }\n",
       "</style>\n",
       "<table border=\"1\" class=\"dataframe\">\n",
       "  <thead>\n",
       "    <tr style=\"text-align: right;\">\n",
       "      <th></th>\n",
       "      <th>Total Sales</th>\n",
       "    </tr>\n",
       "    <tr>\n",
       "      <th>Time</th>\n",
       "      <th></th>\n",
       "    </tr>\n",
       "  </thead>\n",
       "  <tbody>\n",
       "    <tr>\n",
       "      <th>19</th>\n",
       "      <td>2412938.54</td>\n",
       "    </tr>\n",
       "    <tr>\n",
       "      <th>12</th>\n",
       "      <td>2316821.34</td>\n",
       "    </tr>\n",
       "    <tr>\n",
       "      <th>11</th>\n",
       "      <td>2300610.24</td>\n",
       "    </tr>\n",
       "    <tr>\n",
       "      <th>20</th>\n",
       "      <td>2281716.24</td>\n",
       "    </tr>\n",
       "    <tr>\n",
       "      <th>18</th>\n",
       "      <td>2219348.30</td>\n",
       "    </tr>\n",
       "    <tr>\n",
       "      <th>13</th>\n",
       "      <td>2155389.80</td>\n",
       "    </tr>\n",
       "    <tr>\n",
       "      <th>17</th>\n",
       "      <td>2129361.61</td>\n",
       "    </tr>\n",
       "    <tr>\n",
       "      <th>14</th>\n",
       "      <td>2083672.73</td>\n",
       "    </tr>\n",
       "    <tr>\n",
       "      <th>21</th>\n",
       "      <td>2042000.86</td>\n",
       "    </tr>\n",
       "    <tr>\n",
       "      <th>10</th>\n",
       "      <td>1944286.77</td>\n",
       "    </tr>\n",
       "    <tr>\n",
       "      <th>15</th>\n",
       "      <td>1941549.60</td>\n",
       "    </tr>\n",
       "    <tr>\n",
       "      <th>16</th>\n",
       "      <td>1904601.31</td>\n",
       "    </tr>\n",
       "    <tr>\n",
       "      <th>9</th>\n",
       "      <td>1639030.58</td>\n",
       "    </tr>\n",
       "    <tr>\n",
       "      <th>22</th>\n",
       "      <td>1607549.21</td>\n",
       "    </tr>\n",
       "    <tr>\n",
       "      <th>8</th>\n",
       "      <td>1192348.97</td>\n",
       "    </tr>\n",
       "    <tr>\n",
       "      <th>23</th>\n",
       "      <td>1179304.44</td>\n",
       "    </tr>\n",
       "    <tr>\n",
       "      <th>7</th>\n",
       "      <td>744854.12</td>\n",
       "    </tr>\n",
       "    <tr>\n",
       "      <th>0</th>\n",
       "      <td>713721.27</td>\n",
       "    </tr>\n",
       "    <tr>\n",
       "      <th>1</th>\n",
       "      <td>460866.88</td>\n",
       "    </tr>\n",
       "    <tr>\n",
       "      <th>6</th>\n",
       "      <td>448113.00</td>\n",
       "    </tr>\n",
       "    <tr>\n",
       "      <th>2</th>\n",
       "      <td>234851.44</td>\n",
       "    </tr>\n",
       "    <tr>\n",
       "      <th>5</th>\n",
       "      <td>230679.82</td>\n",
       "    </tr>\n",
       "    <tr>\n",
       "      <th>4</th>\n",
       "      <td>162661.01</td>\n",
       "    </tr>\n",
       "    <tr>\n",
       "      <th>3</th>\n",
       "      <td>145757.89</td>\n",
       "    </tr>\n",
       "  </tbody>\n",
       "</table>\n",
       "</div>"
      ],
      "text/plain": [
       "      Total Sales\n",
       "Time             \n",
       "19     2412938.54\n",
       "12     2316821.34\n",
       "11     2300610.24\n",
       "20     2281716.24\n",
       "18     2219348.30\n",
       "13     2155389.80\n",
       "17     2129361.61\n",
       "14     2083672.73\n",
       "21     2042000.86\n",
       "10     1944286.77\n",
       "15     1941549.60\n",
       "16     1904601.31\n",
       "9      1639030.58\n",
       "22     1607549.21\n",
       "8      1192348.97\n",
       "23     1179304.44\n",
       "7       744854.12\n",
       "0       713721.27\n",
       "1       460866.88\n",
       "6       448113.00\n",
       "2       234851.44\n",
       "5       230679.82\n",
       "4       162661.01\n",
       "3       145757.89"
      ]
     },
     "execution_count": 114,
     "metadata": {},
     "output_type": "execute_result"
    }
   ],
   "source": [
    "dataset.groupby('Time').agg({'Total Sales' : sum}).sort_values('Total Sales',ascending=False)"
   ]
  },
  {
   "cell_type": "code",
   "execution_count": 171,
   "id": "ac8ae0f1",
   "metadata": {},
   "outputs": [],
   "source": [
    "most_bht_together = dataset[['Order ID','Product']]"
   ]
  },
  {
   "cell_type": "code",
   "execution_count": 172,
   "id": "bc91e510",
   "metadata": {},
   "outputs": [],
   "source": [
    "most_bht_together = most_bht_together.groupby('Order ID')['Product'].transform(lambda prod : ','.join(prod)).reset_index(name = 'Product Pair')"
   ]
  },
  {
   "cell_type": "code",
   "execution_count": 175,
   "id": "ff7e4e46",
   "metadata": {},
   "outputs": [],
   "source": [
    "most_bht_together.drop_duplicates('Product Pair',inplace=True)"
   ]
  },
  {
   "cell_type": "code",
   "execution_count": 189,
   "id": "f5759945",
   "metadata": {},
   "outputs": [
    {
     "data": {
      "text/html": [
       "<div>\n",
       "<style scoped>\n",
       "    .dataframe tbody tr th:only-of-type {\n",
       "        vertical-align: middle;\n",
       "    }\n",
       "\n",
       "    .dataframe tbody tr th {\n",
       "        vertical-align: top;\n",
       "    }\n",
       "\n",
       "    .dataframe thead th {\n",
       "        text-align: right;\n",
       "    }\n",
       "</style>\n",
       "<table border=\"1\" class=\"dataframe\">\n",
       "  <thead>\n",
       "    <tr style=\"text-align: right;\">\n",
       "      <th></th>\n",
       "      <th>index</th>\n",
       "      <th>Product Pair</th>\n",
       "      <th>No of pair</th>\n",
       "    </tr>\n",
       "  </thead>\n",
       "  <tbody>\n",
       "    <tr>\n",
       "      <th>0</th>\n",
       "      <td>0</td>\n",
       "      <td>USB-C Charging Cable</td>\n",
       "      <td>1</td>\n",
       "    </tr>\n",
       "    <tr>\n",
       "      <th>1</th>\n",
       "      <td>2</td>\n",
       "      <td>Bose SoundSport Headphones</td>\n",
       "      <td>1</td>\n",
       "    </tr>\n",
       "    <tr>\n",
       "      <th>2</th>\n",
       "      <td>3</td>\n",
       "      <td>Google Phone,Wired Headphones</td>\n",
       "      <td>2</td>\n",
       "    </tr>\n",
       "    <tr>\n",
       "      <th>4</th>\n",
       "      <td>5</td>\n",
       "      <td>Wired Headphones</td>\n",
       "      <td>1</td>\n",
       "    </tr>\n",
       "    <tr>\n",
       "      <th>8</th>\n",
       "      <td>9</td>\n",
       "      <td>Macbook Pro Laptop</td>\n",
       "      <td>1</td>\n",
       "    </tr>\n",
       "    <tr>\n",
       "      <th>...</th>\n",
       "      <td>...</td>\n",
       "      <td>...</td>\n",
       "      <td>...</td>\n",
       "    </tr>\n",
       "    <tr>\n",
       "      <th>173016</th>\n",
       "      <td>173856</td>\n",
       "      <td>LG Dryer,27in 4K Gaming Monitor</td>\n",
       "      <td>2</td>\n",
       "    </tr>\n",
       "    <tr>\n",
       "      <th>173360</th>\n",
       "      <td>174201</td>\n",
       "      <td>Google Phone,USB-C Charging Cable,Wired Headph...</td>\n",
       "      <td>4</td>\n",
       "    </tr>\n",
       "    <tr>\n",
       "      <th>175991</th>\n",
       "      <td>176840</td>\n",
       "      <td>LG Dryer,Lightning Charging Cable</td>\n",
       "      <td>2</td>\n",
       "    </tr>\n",
       "    <tr>\n",
       "      <th>176941</th>\n",
       "      <td>177793</td>\n",
       "      <td>ThinkPad Laptop,LG Dryer</td>\n",
       "      <td>2</td>\n",
       "    </tr>\n",
       "    <tr>\n",
       "      <th>179140</th>\n",
       "      <td>180004</td>\n",
       "      <td>LG Washing Machine,AA Batteries (4-pack)</td>\n",
       "      <td>2</td>\n",
       "    </tr>\n",
       "  </tbody>\n",
       "</table>\n",
       "<p>385 rows × 3 columns</p>\n",
       "</div>"
      ],
      "text/plain": [
       "         index                                       Product Pair  No of pair\n",
       "0            0                               USB-C Charging Cable           1\n",
       "1            2                         Bose SoundSport Headphones           1\n",
       "2            3                      Google Phone,Wired Headphones           2\n",
       "4            5                                   Wired Headphones           1\n",
       "8            9                                 Macbook Pro Laptop           1\n",
       "...        ...                                                ...         ...\n",
       "173016  173856                    LG Dryer,27in 4K Gaming Monitor           2\n",
       "173360  174201  Google Phone,USB-C Charging Cable,Wired Headph...           4\n",
       "175991  176840                  LG Dryer,Lightning Charging Cable           2\n",
       "176941  177793                           ThinkPad Laptop,LG Dryer           2\n",
       "179140  180004           LG Washing Machine,AA Batteries (4-pack)           2\n",
       "\n",
       "[385 rows x 3 columns]"
      ]
     },
     "execution_count": 189,
     "metadata": {},
     "output_type": "execute_result"
    }
   ],
   "source": [
    "def len_split(pair):\n",
    "    return len(pair.split(','))\n",
    "\n",
    "\n",
    "most_bht_together['No of pair'] = most_bht_together['Product Pair'].apply(lambda pair: len(pair.split(',')))\n",
    "most_bht_together"
   ]
  },
  {
   "cell_type": "code",
   "execution_count": 165,
   "id": "28d84e9b",
   "metadata": {},
   "outputs": [],
   "source": [
    "product_analysis =  dataset.groupby('Product')['Product'].agg('count').sort_values(ascending=False).reset_index(name = 'Total Count')"
   ]
  },
  {
   "cell_type": "code",
   "execution_count": 169,
   "id": "0588ef64",
   "metadata": {},
   "outputs": [
    {
     "data": {
      "text/plain": [
       "0    USB-C Charging Cable\n",
       "Name: Product, dtype: object"
      ]
     },
     "execution_count": 169,
     "metadata": {},
     "output_type": "execute_result"
    }
   ],
   "source": [
    "product_analysis.loc[product_analysis['Total Count'] == product_analysis['Total Count'].max(), 'Product']"
   ]
  },
  {
   "cell_type": "code",
   "execution_count": 180,
   "id": "2ed52299",
   "metadata": {},
   "outputs": [
    {
     "data": {
      "text/plain": [
       "3"
      ]
     },
     "execution_count": 180,
     "metadata": {},
     "output_type": "execute_result"
    }
   ],
   "source": [
    "array = \"10,20,30\"\n",
    "len(array.split(','))"
   ]
  },
  {
   "cell_type": "code",
   "execution_count": null,
   "id": "d7c05af0",
   "metadata": {},
   "outputs": [],
   "source": []
  }
 ],
 "metadata": {
  "kernelspec": {
   "display_name": "Python 3 (ipykernel)",
   "language": "python",
   "name": "python3"
  },
  "language_info": {
   "codemirror_mode": {
    "name": "ipython",
    "version": 3
   },
   "file_extension": ".py",
   "mimetype": "text/x-python",
   "name": "python",
   "nbconvert_exporter": "python",
   "pygments_lexer": "ipython3",
   "version": "3.9.12"
  }
 },
 "nbformat": 4,
 "nbformat_minor": 5
}
